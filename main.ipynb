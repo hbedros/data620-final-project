{
 "cells": [
  {
   "cell_type": "markdown",
   "metadata": {},
   "source": [
    "## Project Title: Analyzing Amazon Reviews for Product Insights\n",
    "### The P < 0.05 Team - Haig Bedros, Nori Selina, Julia Ferris, Matthew Roland"
   ]
  }
 ],
 "metadata": {
  "language_info": {
   "name": "python"
  }
 },
 "nbformat": 4,
 "nbformat_minor": 2
}
