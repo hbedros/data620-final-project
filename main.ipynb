{
  "cells": [
    {
      "cell_type": "markdown",
      "metadata": {
        "id": "feOeRAIwmuBM"
      },
      "source": [
        "## Project Title: Analyzing Amazon Reviews for Product Insights\n",
        "### The P < 0.05 Team - Haig Bedros, Noori Selina, Julia Ferris, Matthew Roland"
      ]
    },
    {
      "cell_type": "markdown",
      "metadata": {},
      "source": [
        "## Load the data"
      ]
    },
    {
      "cell_type": "code",
      "execution_count": 1,
      "metadata": {},
      "outputs": [],
      "source": [
        "import pandas as pd\n",
        "\n",
        "url = 'https://media.githubusercontent.com/media/hbedros/data620-final-project/main/electronics.csv'\n",
        "df = pd.read_csv(url,index_col=0)"
      ]
    },
    {
      "cell_type": "markdown",
      "metadata": {},
      "source": [
        "### The Question:\n",
        "How do different product features and review characteristics affect customer satisfaction as shown by review ratings on Amazon?\n"
      ]
    },
    {
      "cell_type": "markdown",
      "metadata": {},
      "source": [
        "### Data Sources:\n",
        "We will use the Amazon Review Data (2018) provided by Jianmo Ni from UCSD. This dataset includes reviews (ratings, text, helpfulness votes), product details (descriptions, categories, price, brand, and image features), and links (also viewed/also bought graphs). It covers reviews from May 1996 to October 2018 and includes 233.1 million reviews. \n",
        "\n",
        "The dataset can be found [here](https://nijianmo.github.io/amazon/index.html).\n"
      ]
    },
    {
      "cell_type": "markdown",
      "metadata": {},
      "source": [
        "**1. Data Preparation and Cleaning**\n",
        "- **Assigned to:** Matt and Haig\n",
        "- **Responsibilities:**\n",
        "  - Load the dataset and parse the JSON files.\n",
        "  - Clean the data by removing HTML/CSS content, duplicates, and irrelevant information.\n",
        "\n",
        "The large dataset was cut down to a smaller size. The process is shown in the file Code_to_Filter_Electronigs_Dataset.ipynb\n",
        "\n",
        "The data left in the final csv file named electronics.csv is from after 2016.\n",
        "\n"
      ]
    },
    {
      "cell_type": "markdown",
      "metadata": {},
      "source": [
        "**2. Descriptive Analysis and Visualization**\n",
        "- **Assigned to:** Julia\n",
        "- **Responsibilities:**\n",
        "  - Perform basic statistics on the dataset (e.g., average rating, number of reviews per product).\n",
        "  - Create visualizations to show key metrics like rating distribution, number of reviews per category, and product pricing.\n"
      ]
    },
    {
      "cell_type": "markdown",
      "metadata": {},
      "source": [
        "**3. Network Analysis**\n",
        "- **Assigned to:** Selina\n",
        "- **Responsibilities:**\n",
        "  - Create and analyze the \"also viewed\" and \"also bought\" graphs to find popular product groups.\n",
        "  - Use centrality measures to find important products in these networks.\n"
      ]
    },
    {
      "cell_type": "markdown",
      "metadata": {},
      "source": [
        "**4. NLP and Text Mining**\n",
        "- **Assigned to:** Matt\n",
        "- **Responsibilities:**\n",
        "  - Perform sentiment analysis on review texts to measure customer satisfaction.\n",
        "  - Do topic modeling to find common themes in positive and negative reviews.\n"
      ]
    },
    {
      "cell_type": "markdown",
      "metadata": {},
      "source": [
        "**5. Predictive Analysis**\n",
        "- **Assigned to:** Julia and Haig\n",
        "- **Responsibilities:**\n",
        "  - Train machine learning models to predict review ratings based on review text and product features.\n",
        "  - Evaluate model performance and improve it as needed.\n"
      ]
    },
    {
      "cell_type": "markdown",
      "metadata": {},
      "source": [
        "References:\n",
        "\n",
        "1. Justifying recommendations using distantly-labeled reviews and fine-grained aspects  \n",
        "Jianmo Ni, Jiacheng Li, Julian McAuley  \n",
        "Empirical Methods in Natural Language Processing (EMNLP), 2019\n"
      ]
    },
    {
      "cell_type": "markdown",
      "metadata": {},
      "source": []
    }
  ],
  "metadata": {
    "colab": {
      "provenance": []
    },
    "kernelspec": {
      "display_name": "Python 3",
      "language": "python",
      "name": "python3"
    },
    "language_info": {
      "codemirror_mode": {
        "name": "ipython",
        "version": 3
      },
      "file_extension": ".py",
      "mimetype": "text/x-python",
      "name": "python",
      "nbconvert_exporter": "python",
      "pygments_lexer": "ipython3",
      "version": "3.11.6"
    }
  },
  "nbformat": 4,
  "nbformat_minor": 0
}
